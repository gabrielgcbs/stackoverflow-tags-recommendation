{
 "cells": [
  {
   "cell_type": "code",
   "execution_count": 2,
   "metadata": {},
   "outputs": [
    {
     "name": "stderr",
     "output_type": "stream",
     "text": [
      "[nltk_data] Downloading package stopwords to\n",
      "[nltk_data]     /home/thiagoabreu/nltk_data...\n",
      "[nltk_data]   Unzipping corpora/stopwords.zip.\n"
     ]
    },
    {
     "data": {
      "text/plain": [
       "True"
      ]
     },
     "execution_count": 2,
     "metadata": {},
     "output_type": "execute_result"
    }
   ],
   "source": [
    "import numpy as np\n",
    "import matplotlib.pyplot as plt\n",
    "import pandas as pd \n",
    "import re\n",
    "import nltk\n",
    "import csv\n",
    "import time\n",
    "from nltk.corpus import stopwords\n",
    "from nltk.stem.porter import PorterStemmer\n",
    "from sklearn.feature_extraction.text import CountVectorizer\n",
    "from sklearn.feature_extraction.text import TfidfTransformer\n",
    "from sklearn.neural_network import MLPClassifier\n",
    "\n",
    "nltk.download('stopwords')"
   ]
  },
  {
   "cell_type": "markdown",
   "metadata": {},
   "source": [
    "Leitura dos dados"
   ]
  },
  {
   "cell_type": "code",
   "execution_count": 3,
   "metadata": {},
   "outputs": [
    {
     "data": {
      "text/html": [
       "<div>\n",
       "<style scoped>\n",
       "    .dataframe tbody tr th:only-of-type {\n",
       "        vertical-align: middle;\n",
       "    }\n",
       "\n",
       "    .dataframe tbody tr th {\n",
       "        vertical-align: top;\n",
       "    }\n",
       "\n",
       "    .dataframe thead th {\n",
       "        text-align: right;\n",
       "    }\n",
       "</style>\n",
       "<table border=\"1\" class=\"dataframe\">\n",
       "  <thead>\n",
       "    <tr style=\"text-align: right;\">\n",
       "      <th></th>\n",
       "      <th>title</th>\n",
       "      <th>body</th>\n",
       "      <th>tags</th>\n",
       "    </tr>\n",
       "  </thead>\n",
       "  <tbody>\n",
       "    <tr>\n",
       "      <th>0</th>\n",
       "      <td>Using Components folder instead of Pages</td>\n",
       "      <td>&lt;p&gt;With Blazor being component based and compo...</td>\n",
       "      <td>directory|architecture|components|blazor</td>\n",
       "    </tr>\n",
       "    <tr>\n",
       "      <th>1</th>\n",
       "      <td>Select data from sqlite3 before or after a cer...</td>\n",
       "      <td>&lt;p&gt;I wan to &lt;strong&gt;select&lt;/strong&gt; the data b...</td>\n",
       "      <td>javascript|database|typescript|sqlite|typeorm</td>\n",
       "    </tr>\n",
       "    <tr>\n",
       "      <th>2</th>\n",
       "      <td>Listen to Firebase Firestore data changes for ...</td>\n",
       "      <td>&lt;p&gt;Let's say I have a Firebase firestore datab...</td>\n",
       "      <td>javascript|reactjs|firebase|react-native|googl...</td>\n",
       "    </tr>\n",
       "    <tr>\n",
       "      <th>3</th>\n",
       "      <td>How to decode a base64 image and getting It's ...</td>\n",
       "      <td>&lt;p&gt;newbie here. I've been working on an image ...</td>\n",
       "      <td>python|tensorflow|machine-learning|base64|fastapi</td>\n",
       "    </tr>\n",
       "    <tr>\n",
       "      <th>4</th>\n",
       "      <td>Pods not found while using kubectl port-forward</td>\n",
       "      <td>&lt;p&gt;I want to forward the ports&lt;/p&gt;\\n&lt;pre&gt;&lt;code...</td>\n",
       "      <td>kubernetes|kubectl</td>\n",
       "    </tr>\n",
       "  </tbody>\n",
       "</table>\n",
       "</div>"
      ],
      "text/plain": [
       "                                               title  \\\n",
       "0           Using Components folder instead of Pages   \n",
       "1  Select data from sqlite3 before or after a cer...   \n",
       "2  Listen to Firebase Firestore data changes for ...   \n",
       "3  How to decode a base64 image and getting It's ...   \n",
       "4    Pods not found while using kubectl port-forward   \n",
       "\n",
       "                                                body  \\\n",
       "0  <p>With Blazor being component based and compo...   \n",
       "1  <p>I wan to <strong>select</strong> the data b...   \n",
       "2  <p>Let's say I have a Firebase firestore datab...   \n",
       "3  <p>newbie here. I've been working on an image ...   \n",
       "4  <p>I want to forward the ports</p>\\n<pre><code...   \n",
       "\n",
       "                                                tags  \n",
       "0           directory|architecture|components|blazor  \n",
       "1      javascript|database|typescript|sqlite|typeorm  \n",
       "2  javascript|reactjs|firebase|react-native|googl...  \n",
       "3  python|tensorflow|machine-learning|base64|fastapi  \n",
       "4                                 kubernetes|kubectl  "
      ]
     },
     "execution_count": 3,
     "metadata": {},
     "output_type": "execute_result"
    }
   ],
   "source": [
    "df = pd.read_csv(r'..//data/raw/bq-results-20220725-121025-1658751889618.csv')\n",
    "df.head()"
   ]
  },
  {
   "cell_type": "code",
   "execution_count": 4,
   "metadata": {},
   "outputs": [
    {
     "name": "stdout",
     "output_type": "stream",
     "text": [
      "<class 'pandas.core.frame.DataFrame'>\n",
      "RangeIndex: 500000 entries, 0 to 499999\n",
      "Data columns (total 3 columns):\n",
      " #   Column  Non-Null Count   Dtype \n",
      "---  ------  --------------   ----- \n",
      " 0   title   500000 non-null  object\n",
      " 1   body    500000 non-null  object\n",
      " 2   tags    499994 non-null  object\n",
      "dtypes: object(3)\n",
      "memory usage: 11.4+ MB\n"
     ]
    }
   ],
   "source": [
    "df.info()"
   ]
  },
  {
   "cell_type": "markdown",
   "metadata": {},
   "source": [
    "O dataset possui três atributos, todos do tipo objeto (sendo o atributo *tags*, uma classe).\n",
    "\n",
    "Porém, há amostras com tags vazias, vamos checar quais são."
   ]
  },
  {
   "cell_type": "code",
   "execution_count": 5,
   "metadata": {},
   "outputs": [
    {
     "data": {
      "text/html": [
       "<div>\n",
       "<style scoped>\n",
       "    .dataframe tbody tr th:only-of-type {\n",
       "        vertical-align: middle;\n",
       "    }\n",
       "\n",
       "    .dataframe tbody tr th {\n",
       "        vertical-align: top;\n",
       "    }\n",
       "\n",
       "    .dataframe thead th {\n",
       "        text-align: right;\n",
       "    }\n",
       "</style>\n",
       "<table border=\"1\" class=\"dataframe\">\n",
       "  <thead>\n",
       "    <tr style=\"text-align: right;\">\n",
       "      <th></th>\n",
       "      <th>title</th>\n",
       "      <th>body</th>\n",
       "      <th>tags</th>\n",
       "    </tr>\n",
       "  </thead>\n",
       "  <tbody>\n",
       "    <tr>\n",
       "      <th>45182</th>\n",
       "      <td>How to avoid null pointer exception from fires...</td>\n",
       "      <td>&lt;p&gt;I have a firebase application which loads p...</td>\n",
       "      <td>NaN</td>\n",
       "    </tr>\n",
       "    <tr>\n",
       "      <th>222104</th>\n",
       "      <td>ruby function is returning nil when it should not</td>\n",
       "      <td>&lt;p&gt;I have a written a ruby code that take two ...</td>\n",
       "      <td>NaN</td>\n",
       "    </tr>\n",
       "    <tr>\n",
       "      <th>327727</th>\n",
       "      <td>Map Interface Methods. first things first&lt; I w...</td>\n",
       "      <td>&lt;p&gt;// --------------Map Interface Methods-----...</td>\n",
       "      <td>NaN</td>\n",
       "    </tr>\n",
       "    <tr>\n",
       "      <th>375230</th>\n",
       "      <td>Nan loss value after few epochs with Contrasti...</td>\n",
       "      <td>&lt;p&gt;I used a Siamese network with contrastive l...</td>\n",
       "      <td>NaN</td>\n",
       "    </tr>\n",
       "    <tr>\n",
       "      <th>387970</th>\n",
       "      <td>Why is the Button Null?</td>\n",
       "      <td>&lt;p&gt;I'm receiving a NullPointerException. It sa...</td>\n",
       "      <td>NaN</td>\n",
       "    </tr>\n",
       "    <tr>\n",
       "      <th>394739</th>\n",
       "      <td>Why are NaNs produced for pchisq?</td>\n",
       "      <td>&lt;p&gt;i was using serial.test to check for autoco...</td>\n",
       "      <td>NaN</td>\n",
       "    </tr>\n",
       "  </tbody>\n",
       "</table>\n",
       "</div>"
      ],
      "text/plain": [
       "                                                    title  \\\n",
       "45182   How to avoid null pointer exception from fires...   \n",
       "222104  ruby function is returning nil when it should not   \n",
       "327727  Map Interface Methods. first things first< I w...   \n",
       "375230  Nan loss value after few epochs with Contrasti...   \n",
       "387970                            Why is the Button Null?   \n",
       "394739                  Why are NaNs produced for pchisq?   \n",
       "\n",
       "                                                     body tags  \n",
       "45182   <p>I have a firebase application which loads p...  NaN  \n",
       "222104  <p>I have a written a ruby code that take two ...  NaN  \n",
       "327727  <p>// --------------Map Interface Methods-----...  NaN  \n",
       "375230  <p>I used a Siamese network with contrastive l...  NaN  \n",
       "387970  <p>I'm receiving a NullPointerException. It sa...  NaN  \n",
       "394739  <p>i was using serial.test to check for autoco...  NaN  "
      ]
     },
     "execution_count": 5,
     "metadata": {},
     "output_type": "execute_result"
    }
   ],
   "source": [
    "tags_vazias = df[df['tags'].isna() == True]\n",
    "tags_vazias"
   ]
  },
  {
   "cell_type": "code",
   "execution_count": 6,
   "metadata": {},
   "outputs": [
    {
     "data": {
      "text/plain": [
       "0.0012"
      ]
     },
     "execution_count": 6,
     "metadata": {},
     "output_type": "execute_result"
    }
   ],
   "source": [
    "round((len(tags_vazias)/len(df))*100, 5)"
   ]
  },
  {
   "cell_type": "markdown",
   "metadata": {},
   "source": [
    "Todas elas se tratam de questões específicas de tecnologias/linguagens, portanto o uso de tags seria recomendado nesses casos. Desse modo, como suas tags estão vazias e representam apenas 0.0012% de todas as amostras do dataset, podemos remover essas amostras do banco."
   ]
  },
  {
   "cell_type": "code",
   "execution_count": 7,
   "metadata": {},
   "outputs": [
    {
     "name": "stdout",
     "output_type": "stream",
     "text": [
      "<class 'pandas.core.frame.DataFrame'>\n",
      "Int64Index: 499994 entries, 0 to 499999\n",
      "Data columns (total 3 columns):\n",
      " #   Column  Non-Null Count   Dtype \n",
      "---  ------  --------------   ----- \n",
      " 0   title   499994 non-null  object\n",
      " 1   body    499994 non-null  object\n",
      " 2   tags    499994 non-null  object\n",
      "dtypes: object(3)\n",
      "memory usage: 15.3+ MB\n"
     ]
    }
   ],
   "source": [
    "df_sem_vazios = df.dropna()\n",
    "df_sem_vazios.info()"
   ]
  },
  {
   "cell_type": "markdown",
   "metadata": {},
   "source": [
    "Embora todos os dados sejam textuais, há a possibilidade de haver amostras duplicadas"
   ]
  },
  {
   "cell_type": "code",
   "execution_count": 8,
   "metadata": {},
   "outputs": [
    {
     "data": {
      "text/plain": [
       "title    499994\n",
       "body     499994\n",
       "tags     499994\n",
       "dtype: int64"
      ]
     },
     "execution_count": 8,
     "metadata": {},
     "output_type": "execute_result"
    }
   ],
   "source": [
    "df_sem_duplicados = df_sem_vazios.drop_duplicates()\n",
    "df_sem_duplicados.count()"
   ]
  },
  {
   "cell_type": "markdown",
   "metadata": {},
   "source": [
    "Os valores da coluna body, por serem escritos originalmente em *Markdown*, possuem caracteres especiais (sequências ASCII) e tags HTML. É interessante removê-las para limpar o corpo das questões, pois esses caracteres e tags não influenciam na questão em si, apenas em sua formatação."
   ]
  },
  {
   "cell_type": "code",
   "execution_count": 9,
   "metadata": {},
   "outputs": [],
   "source": [
    "df_sem_duplicados['body'] = df_sem_duplicados['body'].str.replace(r'<[^<>]*>|\\\\', '', regex=True)\n",
    "df_sem_duplicados['body'] = df_sem_duplicados['body'].str.replace(r'\\n', ' ', regex=True)"
   ]
  },
  {
   "cell_type": "code",
   "execution_count": 10,
   "metadata": {},
   "outputs": [
    {
     "data": {
      "text/html": [
       "<div>\n",
       "<style scoped>\n",
       "    .dataframe tbody tr th:only-of-type {\n",
       "        vertical-align: middle;\n",
       "    }\n",
       "\n",
       "    .dataframe tbody tr th {\n",
       "        vertical-align: top;\n",
       "    }\n",
       "\n",
       "    .dataframe thead th {\n",
       "        text-align: right;\n",
       "    }\n",
       "</style>\n",
       "<table border=\"1\" class=\"dataframe\">\n",
       "  <thead>\n",
       "    <tr style=\"text-align: right;\">\n",
       "      <th></th>\n",
       "      <th>title</th>\n",
       "      <th>body</th>\n",
       "      <th>tags</th>\n",
       "    </tr>\n",
       "  </thead>\n",
       "  <tbody>\n",
       "    <tr>\n",
       "      <th>0</th>\n",
       "      <td>Using Components folder instead of Pages</td>\n",
       "      <td>With Blazor being component based and componen...</td>\n",
       "      <td>directory|architecture|components|blazor</td>\n",
       "    </tr>\n",
       "    <tr>\n",
       "      <th>1</th>\n",
       "      <td>Select data from sqlite3 before or after a cer...</td>\n",
       "      <td>I wan to select the data before or after a cer...</td>\n",
       "      <td>javascript|database|typescript|sqlite|typeorm</td>\n",
       "    </tr>\n",
       "    <tr>\n",
       "      <th>2</th>\n",
       "      <td>Listen to Firebase Firestore data changes for ...</td>\n",
       "      <td>Let's say I have a Firebase firestore database...</td>\n",
       "      <td>javascript|reactjs|firebase|react-native|googl...</td>\n",
       "    </tr>\n",
       "    <tr>\n",
       "      <th>3</th>\n",
       "      <td>How to decode a base64 image and getting It's ...</td>\n",
       "      <td>newbie here. I've been working on an image cla...</td>\n",
       "      <td>python|tensorflow|machine-learning|base64|fastapi</td>\n",
       "    </tr>\n",
       "    <tr>\n",
       "      <th>4</th>\n",
       "      <td>Pods not found while using kubectl port-forward</td>\n",
       "      <td>I want to forward the ports kubectl port-forwa...</td>\n",
       "      <td>kubernetes|kubectl</td>\n",
       "    </tr>\n",
       "  </tbody>\n",
       "</table>\n",
       "</div>"
      ],
      "text/plain": [
       "                                               title  \\\n",
       "0           Using Components folder instead of Pages   \n",
       "1  Select data from sqlite3 before or after a cer...   \n",
       "2  Listen to Firebase Firestore data changes for ...   \n",
       "3  How to decode a base64 image and getting It's ...   \n",
       "4    Pods not found while using kubectl port-forward   \n",
       "\n",
       "                                                body  \\\n",
       "0  With Blazor being component based and componen...   \n",
       "1  I wan to select the data before or after a cer...   \n",
       "2  Let's say I have a Firebase firestore database...   \n",
       "3  newbie here. I've been working on an image cla...   \n",
       "4  I want to forward the ports kubectl port-forwa...   \n",
       "\n",
       "                                                tags  \n",
       "0           directory|architecture|components|blazor  \n",
       "1      javascript|database|typescript|sqlite|typeorm  \n",
       "2  javascript|reactjs|firebase|react-native|googl...  \n",
       "3  python|tensorflow|machine-learning|base64|fastapi  \n",
       "4                                 kubernetes|kubectl  "
      ]
     },
     "execution_count": 10,
     "metadata": {},
     "output_type": "execute_result"
    }
   ],
   "source": [
    "df_sem_duplicados.head()"
   ]
  },
  {
   "cell_type": "code",
   "execution_count": null,
   "metadata": {},
   "outputs": [],
   "source": [
    "#Porter Stemmer object for stemming\n",
    "ps = PorterStemmer()\n",
    "#creating the corpus for all the articles\n",
    "corpus = []\n",
    "chunk_size = 10000#Preprocessing\n",
    "\n",
    "for i in range(0,chunk_size):\n",
    "    body = re.sub('[^a-zA-Z]', ' ', df['body'][i])\n",
    "    title = re.sub('[^a-zA-Z]', ' ', df['title'][i])\n",
    "    body = body.lower()\n",
    "    title = title.lower()\n",
    "    body = body.split()\n",
    "    title = title.split()\n",
    "    body = [ps.stem(word) for word in body if not word in set(stopwords.words('english')) and len(word) != 1] \n",
    "    title = [ps.stem(word) for word in title if not word in set(stopwords.words('english')) and len(word) != 1] \n",
    "    body = ' '.join(body)\n",
    "    title = ' '.join(title)\n",
    "    paragraph = body + title\n",
    "    corpus.append(paragraph)\n",
    "\n"
   ]
  },
  {
   "cell_type": "code",
   "execution_count": 12,
   "metadata": {},
   "outputs": [
    {
     "data": {
      "text/plain": [
       "10000"
      ]
     },
     "execution_count": 12,
     "metadata": {},
     "output_type": "execute_result"
    }
   ],
   "source": [
    "len(corpus)"
   ]
  },
  {
   "cell_type": "code",
   "execution_count": 17,
   "metadata": {},
   "outputs": [
    {
     "data": {
      "text/plain": [
       "<5000x1000 sparse matrix of type '<class 'numpy.int64'>'\n",
       "\twith 189320 stored elements in Compressed Sparse Row format>"
      ]
     },
     "execution_count": 17,
     "metadata": {},
     "output_type": "execute_result"
    }
   ],
   "source": [
    "\n",
    "cv = CountVectorizer(max_df = 0.85, max_features = 1000)\n",
    "word_count_vector_train = cv.fit_transform(corpus[:5000])#to see the words in the vocabulary use: list(cv.vocabulary_.keys())[:10]#calculate the IDF\n"
   ]
  },
  {
   "cell_type": "code",
   "execution_count": null,
   "metadata": {},
   "outputs": [],
   "source": [
    "\n",
    "#WARNING: ALWAYS USE IDF ON A LARGE CORPUS\n",
    "#tfidf_transformer=TfidfTransformer(smooth_idf=True,use_idf=True)\n",
    "#tfidf_transformer.fit(word_count_vector_train)# do this once, this is a mapping of index \n",
    "\n",
    "clf = MLPClassifier(solver='lbfgs', alpha=1e-5, hidden_layer_sizes=(70, ), random_state=1, verbose=True)\n",
    "clf.fit(X_train_tfidf_vectorize, twenty_train.target)\n",
    "view raw\n"
   ]
  }
 ],
 "metadata": {
  "kernelspec": {
   "display_name": "Python 3.8.13 ('mestrado')",
   "language": "python",
   "name": "python3"
  },
  "language_info": {
   "codemirror_mode": {
    "name": "ipython",
    "version": 3
   },
   "file_extension": ".py",
   "mimetype": "text/x-python",
   "name": "python",
   "nbconvert_exporter": "python",
   "pygments_lexer": "ipython3",
   "version": "3.8.13"
  },
  "orig_nbformat": 4,
  "vscode": {
   "interpreter": {
    "hash": "9c22ca1177a215c14223afc13560ee0ca0845f4c372260981c745f6153460298"
   }
  }
 },
 "nbformat": 4,
 "nbformat_minor": 2
}
